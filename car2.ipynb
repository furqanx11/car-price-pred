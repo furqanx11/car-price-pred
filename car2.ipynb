{
 "cells": [
  {
   "cell_type": "code",
   "execution_count": 1,
   "metadata": {},
   "outputs": [
    {
     "name": "stderr",
     "output_type": "stream",
     "text": [
      "C:\\Users\\Administrator\\AppData\\Local\\Temp\\ipykernel_8860\\3462029357.py:1: DeprecationWarning: \n",
      "Pyarrow will become a required dependency of pandas in the next major release of pandas (pandas 3.0),\n",
      "(to allow more performant data types, such as the Arrow string type, and better interoperability with other libraries)\n",
      "but was not found to be installed on your system.\n",
      "If this would cause problems for you,\n",
      "please provide us feedback at https://github.com/pandas-dev/pandas/issues/54466\n",
      "        \n",
      "  import pandas as pd\n"
     ]
    }
   ],
   "source": [
    "import pandas as pd\n",
    "import numpy as np\n",
    "import matplotlib.pyplot as plt\n",
    "import seaborn as sns\n",
    "from sklearn.linear_model import LinearRegression\n",
    "from sklearn.model_selection import train_test_split\n",
    "import category_encoders as ce"
   ]
  },
  {
   "cell_type": "code",
   "execution_count": 2,
   "metadata": {},
   "outputs": [],
   "source": [
    "car = pd.read_csv('cleaned.csv')"
   ]
  },
  {
   "cell_type": "code",
   "execution_count": 3,
   "metadata": {},
   "outputs": [],
   "source": [
    "car.drop(['Unnamed: 0'], axis=1, inplace=True)"
   ]
  },
  {
   "cell_type": "code",
   "execution_count": 4,
   "metadata": {},
   "outputs": [],
   "source": [
    "car.drop(['addref'],axis=1,inplace=True)"
   ]
  },
  {
   "cell_type": "code",
   "execution_count": 5,
   "metadata": {},
   "outputs": [
    {
     "name": "stdout",
     "output_type": "stream",
     "text": [
      "<class 'pandas.core.frame.DataFrame'>\n",
      "RangeIndex: 63360 entries, 0 to 63359\n",
      "Data columns (total 12 columns):\n",
      " #   Column        Non-Null Count  Dtype  \n",
      "---  ------        --------------  -----  \n",
      " 0   city          63360 non-null  object \n",
      " 1   body          63360 non-null  object \n",
      " 2   make          63360 non-null  object \n",
      " 3   model         63360 non-null  object \n",
      " 4   year          63360 non-null  float64\n",
      " 5   engine        63360 non-null  float64\n",
      " 6   transmission  63360 non-null  object \n",
      " 7   fuel          63360 non-null  object \n",
      " 8   color         63360 non-null  object \n",
      " 9   registered    63360 non-null  object \n",
      " 10  mileage       63360 non-null  int64  \n",
      " 11  price         63360 non-null  float64\n",
      "dtypes: float64(3), int64(1), object(8)\n",
      "memory usage: 5.8+ MB\n"
     ]
    }
   ],
   "source": [
    "car.info()"
   ]
  },
  {
   "cell_type": "code",
   "execution_count": 6,
   "metadata": {},
   "outputs": [
    {
     "data": {
      "text/html": [
       "<div>\n",
       "<style scoped>\n",
       "    .dataframe tbody tr th:only-of-type {\n",
       "        vertical-align: middle;\n",
       "    }\n",
       "\n",
       "    .dataframe tbody tr th {\n",
       "        vertical-align: top;\n",
       "    }\n",
       "\n",
       "    .dataframe thead th {\n",
       "        text-align: right;\n",
       "    }\n",
       "</style>\n",
       "<table border=\"1\" class=\"dataframe\">\n",
       "  <thead>\n",
       "    <tr style=\"text-align: right;\">\n",
       "      <th></th>\n",
       "      <th>year</th>\n",
       "      <th>engine</th>\n",
       "      <th>mileage</th>\n",
       "      <th>price</th>\n",
       "    </tr>\n",
       "  </thead>\n",
       "  <tbody>\n",
       "    <tr>\n",
       "      <th>count</th>\n",
       "      <td>63360.000000</td>\n",
       "      <td>63360.000000</td>\n",
       "      <td>63360.000000</td>\n",
       "      <td>6.336000e+04</td>\n",
       "    </tr>\n",
       "    <tr>\n",
       "      <th>mean</th>\n",
       "      <td>2013.347049</td>\n",
       "      <td>1396.863068</td>\n",
       "      <td>91231.330540</td>\n",
       "      <td>3.859171e+06</td>\n",
       "    </tr>\n",
       "    <tr>\n",
       "      <th>std</th>\n",
       "      <td>7.160001</td>\n",
       "      <td>636.120336</td>\n",
       "      <td>83517.628336</td>\n",
       "      <td>5.018072e+06</td>\n",
       "    </tr>\n",
       "    <tr>\n",
       "      <th>min</th>\n",
       "      <td>1990.000000</td>\n",
       "      <td>600.000000</td>\n",
       "      <td>1.000000</td>\n",
       "      <td>1.100000e+05</td>\n",
       "    </tr>\n",
       "    <tr>\n",
       "      <th>25%</th>\n",
       "      <td>2008.000000</td>\n",
       "      <td>1000.000000</td>\n",
       "      <td>38000.000000</td>\n",
       "      <td>1.550000e+06</td>\n",
       "    </tr>\n",
       "    <tr>\n",
       "      <th>50%</th>\n",
       "      <td>2015.000000</td>\n",
       "      <td>1300.000000</td>\n",
       "      <td>80000.000000</td>\n",
       "      <td>2.800000e+06</td>\n",
       "    </tr>\n",
       "    <tr>\n",
       "      <th>75%</th>\n",
       "      <td>2019.000000</td>\n",
       "      <td>1600.000000</td>\n",
       "      <td>122000.000000</td>\n",
       "      <td>4.550000e+06</td>\n",
       "    </tr>\n",
       "    <tr>\n",
       "      <th>max</th>\n",
       "      <td>2022.000000</td>\n",
       "      <td>6800.000000</td>\n",
       "      <td>1000000.000000</td>\n",
       "      <td>1.700000e+08</td>\n",
       "    </tr>\n",
       "  </tbody>\n",
       "</table>\n",
       "</div>"
      ],
      "text/plain": [
       "               year        engine         mileage         price\n",
       "count  63360.000000  63360.000000    63360.000000  6.336000e+04\n",
       "mean    2013.347049   1396.863068    91231.330540  3.859171e+06\n",
       "std        7.160001    636.120336    83517.628336  5.018072e+06\n",
       "min     1990.000000    600.000000        1.000000  1.100000e+05\n",
       "25%     2008.000000   1000.000000    38000.000000  1.550000e+06\n",
       "50%     2015.000000   1300.000000    80000.000000  2.800000e+06\n",
       "75%     2019.000000   1600.000000   122000.000000  4.550000e+06\n",
       "max     2022.000000   6800.000000  1000000.000000  1.700000e+08"
      ]
     },
     "execution_count": 6,
     "metadata": {},
     "output_type": "execute_result"
    }
   ],
   "source": [
    "car.describe()"
   ]
  },
  {
   "cell_type": "code",
   "execution_count": 7,
   "metadata": {},
   "outputs": [],
   "source": [
    "car['body'] = car['body'].replace(['Micro Van', 'Mini Van'], 'Van')\n",
    "car['body'] = car['body'].replace(['Compact SUV'], 'SUV')\n",
    "car['body'] = car['body'].replace(['Compact sedan'], 'Sedan')\n",
    "car['body'] = car['body'].replace(['Compact hatchback'], 'Hatchback')\n",
    "car['body'] = car['body'].replace(['Single Cabin', 'Double Cabin'], 'Cabin')"
   ]
  },
  {
   "cell_type": "code",
   "execution_count": 8,
   "metadata": {},
   "outputs": [
    {
     "data": {
      "text/plain": [
       "array(['Corolla', 'City', 'Yaris', 'Swift', 'Civic', 'Move', 'Mehran',\n",
       "       'Mira', 'Pajero', 'Cultus', 'Vitz', 'Alto', 'Land', 'BR-V',\n",
       "       'Tucson', 'Passo', 'C-HR', 'Hustler', 'Sportage', 'Liana', 'Aqua',\n",
       "       'Baleno', 'Belta', 'Every', 'Raize', 'Vezel', 'Hijet', 'Prado',\n",
       "       'Elantra', 'Hilux', 'Fortuner', 'Carol', 'N', 'RX', 'Wagon',\n",
       "       'Benz', 'Bolan', 'Picanto', 'Prius', 'Hiace', 'Cuore', '3',\n",
       "       'Karvaan', 'Alsvin', 'Glory', 'Accord', 'X-PV', 'Corona', 'X70',\n",
       "       'Saga', 'Grand', 'HS', 'Up', 'Dayz', 'Oshan', 'Premio', 'Rover',\n",
       "       'Tundra', 'Sorento', 'Santro', 'RX8', 'Clipper', 'Sonata', 'A3',\n",
       "       'Esse', 'Vitara', '2008', 'ZS', '5', 'Aygo', 'Bravo', 'Fit',\n",
       "       'Life', 'Cross', 'Khyber', 'Terios', 'Tanto', 'Santa', 'Stonic',\n",
       "       'HR-V', 'Otti', 'Sienta', 'A5', 'Mark', 'Ek', 'Celerio', 'Copen',\n",
       "       'Rush', 'Note', 'Zest', 'LX', 'Crown', 'Surf', 'Cast', 'X1',\n",
       "       'CR-Z', 'Pearl', 'Q2', 'A4', 'Camry', 'V2', 'Tiggo', 'Lancer',\n",
       "       'Allion', 'Cayenne', 'Moco', 'Grace', 'Airwave', 'A6', 'Pixis',\n",
       "       'Boon', 'Ciaz', 'March', 'Thor', 'R2', 'Avensis', 'Margalla',\n",
       "       'Rav4', 'Stream', 'Joy', 'Q7', 'EK', 'Optra', 'Porte', 'Fj',\n",
       "       'Cherokee', 'Platz', 'AD', 'Ravi', 'Mirage', 'QQ', 'IST', 'Xbee',\n",
       "       'Sunny', 'Harrier', 'Juke', '7', 'Racer', 'ISIS', 'Voxy', 'Wake',\n",
       "       'MR', 'Kizashi', 'Freed', 'Excel', 'Jimny', 'Roomy', 'CR-V',\n",
       "       'Revo', 'Insight', 'H6', 'Cervo', 'Noah', 'MX', 'Jade', 'Tacoma',\n",
       "       'Exclusive', 'Town', 'CT200h', 'Avanza', 'Alpha', 'Taft', 'Flair',\n",
       "       'Classic', 'R1', 'Probox', 'Galant', 'Continental', 'Stella',\n",
       "       'Patrol', 'FX', 'Wingroad', 'Pino', 'Estima', 'Serena', 'Alphard',\n",
       "       'S660', 'Panamera', 'MR2', 'Carrier', 'Spacia', 'F', 'Kei', 'A8',\n",
       "       'Wrangler', 'Roox', 'Lucida', 'Thats', 'iQ', 'BJ40', 'APV',\n",
       "       'Titan', 'Rocky', 'Rvr', 'Ractis', 'Brio', 'Kicks', 'Sierra',\n",
       "       'Palette', 'Kona', 'Spike', 'H-100', 'D-Max', 'Q3', 'Tank', 'X2',\n",
       "       'Potohar', 'Jolion', 'I', 'Coo', 'Pleo', 'Challenger', 'Tiida',\n",
       "       'Silverado', 'Shehzore', 'Cx3', 'Inspire', 'Cappuccino', 'Minica',\n",
       "       'Esquire', 'Z', 'Ignis', 'X5', 'TT', 'Mega', 'Duet', 'Spectra',\n",
       "       'K07', 'Charade', 'Staria', 'Cami', 'Bluebird', 'Trooper', 'Wish',\n",
       "       'L200', 'Sirius', 'Vamos', 'M9', 'Acty', 'Coaster', 'Gen',\n",
       "       'Altezza', 'Kix', 'Cooper', 'Toppo', 'Succeed', 'Pride', 'Forland',\n",
       "       'Primera', 'X', 'Pickup', 'Cressida', 'Z100', 'Beat', 'X200',\n",
       "       'Aveo', 'Gilgit', 'Sonica', '2', 'Atrai', 'Impreza', 'Storia',\n",
       "       'Terracan', 'Cx7', 'A7', 'Nx', 'Niro', 'Stavic', 'Amarok',\n",
       "       'Gladiator', 'Carry', 'Shahbaz', '626', 'Cielo', 'Roadmaster',\n",
       "       'Beetle', 'Kaghan', 'M8', 'KY10', 'Celica', 'Chaser', 'Navara',\n",
       "       'Colorado', 'Frontier', 'S', '370Z', 'Mulsanne', 'H2', 'Uno',\n",
       "       'Raum', 'V40', 'A800', 'Ioniq', 'Caravan', 'L300', 'X3', 'Cerato',\n",
       "       'Sambar', 'Skyline'], dtype=object)"
      ]
     },
     "execution_count": 8,
     "metadata": {},
     "output_type": "execute_result"
    }
   ],
   "source": [
    "car['model'].unique()"
   ]
  },
  {
   "cell_type": "markdown",
   "metadata": {},
   "source": [
    "## FEATURES\n",
    "- year --int\n",
    "- fuel --ohe\n",
    "- transmission --ohe\n",
    "- engine --int\n",
    "- body --be\n",
    "- make --be\n",
    "- model --be\n",
    "- mileage --int"
   ]
  },
  {
   "cell_type": "code",
   "execution_count": 14,
   "metadata": {},
   "outputs": [],
   "source": [
    "X_train, X_test, y_train, y_test = train_test_split(car[['year','fuel','transmission','engine','body','make','model','mileage']], car['price'], test_size=0.2, random_state=42)"
   ]
  },
  {
   "cell_type": "code",
   "execution_count": 19,
   "metadata": {},
   "outputs": [
    {
     "name": "stdout",
     "output_type": "stream",
     "text": [
      "<class 'pandas.core.series.Series'>\n",
      "Index: 50688 entries, 3494 to 56422\n",
      "Series name: price\n",
      "Non-Null Count  Dtype  \n",
      "--------------  -----  \n",
      "50688 non-null  float64\n",
      "dtypes: float64(1)\n",
      "memory usage: 792.0 KB\n"
     ]
    }
   ],
   "source": [
    "y_train.info()"
   ]
  },
  {
   "cell_type": "code",
   "execution_count": 20,
   "metadata": {},
   "outputs": [
    {
     "name": "stdout",
     "output_type": "stream",
     "text": [
      "<class 'pandas.core.series.Series'>\n",
      "Index: 12672 entries, 55648 to 52564\n",
      "Series name: price\n",
      "Non-Null Count  Dtype  \n",
      "--------------  -----  \n",
      "12672 non-null  float64\n",
      "dtypes: float64(1)\n",
      "memory usage: 198.0 KB\n"
     ]
    }
   ],
   "source": [
    "y_test.info()"
   ]
  },
  {
   "cell_type": "code",
   "execution_count": 21,
   "metadata": {},
   "outputs": [],
   "source": [
    "binary_encoder = ce.BinaryEncoder(cols=['body', 'make', 'model'])\n",
    "X_train_binary = binary_encoder.fit_transform(X_train)\n",
    "X_test_binary = binary_encoder.transform(X_test)"
   ]
  },
  {
   "cell_type": "code",
   "execution_count": 24,
   "metadata": {},
   "outputs": [
    {
     "name": "stdout",
     "output_type": "stream",
     "text": [
      "<class 'pandas.core.frame.DataFrame'>\n",
      "Index: 50688 entries, 3494 to 56422\n",
      "Data columns (total 24 columns):\n",
      " #   Column        Non-Null Count  Dtype  \n",
      "---  ------        --------------  -----  \n",
      " 0   year          50688 non-null  float64\n",
      " 1   fuel          50688 non-null  object \n",
      " 2   transmission  50688 non-null  object \n",
      " 3   engine        50688 non-null  float64\n",
      " 4   body_0        50688 non-null  int64  \n",
      " 5   body_1        50688 non-null  int64  \n",
      " 6   body_2        50688 non-null  int64  \n",
      " 7   body_3        50688 non-null  int64  \n",
      " 8   make_0        50688 non-null  int64  \n",
      " 9   make_1        50688 non-null  int64  \n",
      " 10  make_2        50688 non-null  int64  \n",
      " 11  make_3        50688 non-null  int64  \n",
      " 12  make_4        50688 non-null  int64  \n",
      " 13  make_5        50688 non-null  int64  \n",
      " 14  model_0       50688 non-null  int64  \n",
      " 15  model_1       50688 non-null  int64  \n",
      " 16  model_2       50688 non-null  int64  \n",
      " 17  model_3       50688 non-null  int64  \n",
      " 18  model_4       50688 non-null  int64  \n",
      " 19  model_5       50688 non-null  int64  \n",
      " 20  model_6       50688 non-null  int64  \n",
      " 21  model_7       50688 non-null  int64  \n",
      " 22  model_8       50688 non-null  int64  \n",
      " 23  mileage       50688 non-null  int64  \n",
      "dtypes: float64(2), int64(20), object(2)\n",
      "memory usage: 9.7+ MB\n"
     ]
    }
   ],
   "source": [
    "X_train_binary.info()"
   ]
  },
  {
   "cell_type": "code",
   "execution_count": null,
   "metadata": {},
   "outputs": [],
   "source": []
  }
 ],
 "metadata": {
  "kernelspec": {
   "display_name": "Python 3",
   "language": "python",
   "name": "python3"
  },
  "language_info": {
   "codemirror_mode": {
    "name": "ipython",
    "version": 3
   },
   "file_extension": ".py",
   "mimetype": "text/x-python",
   "name": "python",
   "nbconvert_exporter": "python",
   "pygments_lexer": "ipython3",
   "version": "3.12.1"
  }
 },
 "nbformat": 4,
 "nbformat_minor": 2
}
